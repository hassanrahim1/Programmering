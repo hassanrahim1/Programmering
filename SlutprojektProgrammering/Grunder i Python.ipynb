{
 "cells": [
  {
   "attachments": {},
   "cell_type": "markdown",
   "id": "32e78643",
   "metadata": {},
   "source": [
    "# Arbetsbok: Grunder i Python\n",
    "\n",
    "Besvara följande frågor, tänk på att i kodceller skriver du kod och text för textsvar. Frågorna är fria men det är en möjlighet att visa att du behärskar grunderna i Python. Spara med jämna mellanrum med ctrl-s.\n"
   ]
  },
  {
   "attachments": {},
   "cell_type": "markdown",
   "id": "33040380",
   "metadata": {},
   "source": [
    "## 1. Vad är en datatyp? Ge exempel på fyra olika? Förklara varför det finns olika datatyper samt användning."
   ]
  },
  {
   "cell_type": "code",
   "execution_count": null,
   "id": "1de0df53",
   "metadata": {},
   "outputs": [],
   "source": [
    "#string\n",
    "text = \"Hej\"\n",
    "#int\n",
    "nummer = 10\n",
    "#bool\n",
    "kallt = True\n",
    "#float\n",
    "pi = 3.14"
   ]
  },
  {
   "attachments": {},
   "cell_type": "markdown",
   "id": "7a78e972",
   "metadata": {},
   "source": [
    "## 2. Visa med exempel hur du använder funktioner print() och input()"
   ]
  },
  {
   "cell_type": "code",
   "execution_count": null,
   "id": "b07ffc64",
   "metadata": {},
   "outputs": [],
   "source": [
    "# exempel\n",
    "namn = \"Hassan\"\n",
    "alder = 17\n",
    "print(\"Hej, jag heter\", namn, \"min ålder är\", alder, \"gammal\")\n",
    "\n",
    "namn2 = input(\"vad heter du\")\n",
    "print (\"hej \", namn2)\n"
   ]
  },
  {
   "attachments": {},
   "cell_type": "markdown",
   "id": "eca2acf8",
   "metadata": {},
   "source": [
    "## 3. Visa hur man använder formaterad utskrift (f-string)"
   ]
  },
  {
   "cell_type": "code",
   "execution_count": null,
   "id": "d7ff540d",
   "metadata": {},
   "outputs": [],
   "source": [
    "# exempel\n",
    "namn3 = \"Hassan\"\n",
    "alder3 = 17\n",
    "print(f\"Hej, jag heter {namn3} min ålder är {alder3} gammal\")"
   ]
  },
  {
   "attachments": {},
   "cell_type": "markdown",
   "id": "368ede66",
   "metadata": {},
   "source": [
    "## 4. Skriv en kodbit med en if-sats, använd villkor samt print() och input()."
   ]
  },
  {
   "cell_type": "code",
   "execution_count": null,
   "id": "31a4b020",
   "metadata": {},
   "outputs": [],
   "source": [
    "# exempel\n",
    "\n",
    "alder5 = int(input(\"hur gammal är du\"))\n",
    "\n",
    "if alder5 >= 18:\n",
    "    print(\"du är över 18\")\n",
    "else:\n",
    "    print(\"du är under 18\")"
   ]
  },
  {
   "attachments": {},
   "cell_type": "markdown",
   "id": "16c89322",
   "metadata": {},
   "source": [
    "## 5. Importera någon modul. Vad är skillnad på inbyggda funktioner och de man importerar?"
   ]
  },
  {
   "cell_type": "code",
   "execution_count": null,
   "id": "b1e91d9d",
   "metadata": {},
   "outputs": [],
   "source": [
    "# exempel import\n",
    "\n",
    "# exempel inbyggd funktion"
   ]
  },
  {
   "attachments": {},
   "cell_type": "markdown",
   "id": "f43177e9",
   "metadata": {},
   "source": [
    "## 6. Använd en loop (while eller for)"
   ]
  },
  {
   "cell_type": "code",
   "execution_count": null,
   "id": "c0578bf8",
   "metadata": {},
   "outputs": [],
   "source": [
    "# \n",
    "namn10 = [\"Hassan\", \"Yosef\", \"Salih\", \"Måns\"]\n",
    "\n",
    "for namnen in namn10:\n",
    "    print(namnen)"
   ]
  },
  {
   "attachments": {},
   "cell_type": "markdown",
   "id": "37447463",
   "metadata": {},
   "source": [
    "## 7. Skapa en lista. Använd minst två funktioner på listan"
   ]
  },
  {
   "cell_type": "code",
   "execution_count": null,
   "id": "6689b3f6",
   "metadata": {},
   "outputs": [],
   "source": [
    "# exempel\n",
    "nummer1 = [1, 2, 3, 4, 5, 6, 7, 8, 9, 10]\n",
    "\n",
    "amount = len(nummer1)\n",
    "print(\"antal nummer är i denna listan\", amount)\n",
    "\n",
    "summan = sum(nummer1)\n",
    "print(\"summan av talen är i listan\", summan)"
   ]
  },
  {
   "attachments": {},
   "cell_type": "markdown",
   "id": "b23645fd",
   "metadata": {},
   "source": [
    "## 8. Gör en egen funktion (def)"
   ]
  },
  {
   "cell_type": "code",
   "execution_count": null,
   "id": "92eb6743",
   "metadata": {},
   "outputs": [],
   "source": [
    "# exempel\n",
    "\n",
    "def valkommen():\n",
    "    print(\"Välkommen\")\n",
    "\n",
    "valkommen()"
   ]
  }
 ],
 "metadata": {
  "kernelspec": {
   "display_name": "Python 3 (ipykernel)",
   "language": "python",
   "name": "python3"
  },
  "language_info": {
   "codemirror_mode": {
    "name": "ipython",
    "version": 3
   },
   "file_extension": ".py",
   "mimetype": "text/x-python",
   "name": "python",
   "nbconvert_exporter": "python",
   "pygments_lexer": "ipython3",
   "version": "3.10.9"
  }
 },
 "nbformat": 4,
 "nbformat_minor": 5
}
