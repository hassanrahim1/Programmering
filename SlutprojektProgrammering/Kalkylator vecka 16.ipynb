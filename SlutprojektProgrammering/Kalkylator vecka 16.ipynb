{
 "cells": [
  {
   "cell_type": "code",
   "execution_count": 1,
   "id": "16918b96",
   "metadata": {},
   "outputs": [
    {
     "name": "stdout",
     "output_type": "stream",
     "text": [
      "Requirement already satisfied: pysimplegui in c:\\users\\hassan\\anaconda3\\lib\\site-packages (4.60.4)\n",
      "Note: you may need to restart the kernel to use updated packages.\n"
     ]
    }
   ],
   "source": [
    "pip install pysimplegui"
   ]
  },
  {
   "cell_type": "code",
   "execution_count": null,
   "id": "be8060e0",
   "metadata": {},
   "outputs": [],
   "source": [
    "import PySimpleGUI as sg\n",
    "\n",
    "def create_window(theme):\n",
    "    sg.theme(theme)\n",
    "    sg.set_options(font = 'Franklin 14', button_element_size = (6,3))\n",
    "    button_size = (6,3)\n",
    "    Nr2_size = (12,6)\n",
    "    Blackcolor = ('#000000')\n",
    "    Redcolor = ('#FF0000')\n",
    "    Limecolor = ('#00FF00')\n",
    "    layout = [\n",
    "        [sg.Text(\n",
    "            '', \n",
    "            font = 'Franklin 14', \n",
    "            justification = 'right', \n",
    "            expand_x = True, \n",
    "            pad = (10,20),\n",
    "            right_click_menu = theme_menu,\n",
    "            key = '-TEXT-'\n",
    "            )\n",
    "        ],\n",
    "        [sg.Button('Clear', size = Nr2_size), sg.Button('Enter', expand_x = True)],\n",
    "        [sg.Button(7, size = button_size, button_color = Limecolor),sg.Button(8, size = button_size),sg.Button(9, size = button_size),sg.Button('*', size = button_size)],\n",
    "        [sg.Button(4, size = button_size),sg.Button(5, size = button_size, button_color = Redcolor),sg.Button(6, size = button_size),sg.Button('/', size = button_size)],\n",
    "        [sg.Button(1, size = button_size),sg.Button(2, size = button_size),sg.Button(3, size = button_size, button_color = Blackcolor),sg.Button('-', size = button_size)],\n",
    "        [sg.Button(0, expand_x = True),sg.Button('.', size = button_size),sg.Button('+', size = button_size)],\n",
    "    ]\n",
    "\n",
    "    return sg.Window('Calculator', layout)\n",
    "\n",
    "def Button_knapp():\n",
    "    print(\"Du tryckte på knappen 7\")\n",
    "\n",
    "theme_menu = ['menu',['LightGrey1','dark','DarkGray8','random']]\n",
    "window = create_window('LightGrey1')\n",
    "\n",
    "current_num = []\n",
    "full_operation = []\n",
    "\n",
    "while True:\n",
    "    event, values = window.read()\n",
    "    if event == sg.WIN_CLOSED:\n",
    "        break\n",
    "\n",
    "    if event in theme_menu[1]:\n",
    "        window.close()\n",
    "        window = create_window(event)\n",
    "\n",
    "    if event in ['0','1','2','3','4','5','6','7','8','9','.']:\n",
    "        current_num.append(event)\n",
    "        num_string = ''.join(current_num)\n",
    "        window['-TEXT-'].update(num_string)\n",
    "\n",
    "    if event in ['+','-','/','*']:\n",
    "        full_operation.append(''.join(current_num))\n",
    "        current_num = []\n",
    "        full_operation.append(event)\n",
    "        window['-TEXT-'].update('')\n",
    "\n",
    "    if event == 'Enter':\n",
    "        full_operation.append(''.join(current_num))\n",
    "        result = eval(' '.join(full_operation))\n",
    "        window['-TEXT-'].update(result)\n",
    "        full_operation = []\n",
    "\n",
    "    if event == 'Clear':\n",
    "        current_num = []\n",
    "        full_operation = []\n",
    "        window['-TEXT-'].update('')\n",
    "        \n",
    "    if event == '7':\n",
    "        Button_knapp()\n",
    "\n",
    "window.close()"
   ]
  },
  {
   "cell_type": "code",
   "execution_count": null,
   "id": "347c0da7",
   "metadata": {},
   "outputs": [],
   "source": []
  },
  {
   "cell_type": "code",
   "execution_count": null,
   "id": "32866d5d",
   "metadata": {},
   "outputs": [],
   "source": []
  }
 ],
 "metadata": {
  "kernelspec": {
   "display_name": "Python 3 (ipykernel)",
   "language": "python",
   "name": "python3"
  },
  "language_info": {
   "codemirror_mode": {
    "name": "ipython",
    "version": 3
   },
   "file_extension": ".py",
   "mimetype": "text/x-python",
   "name": "python",
   "nbconvert_exporter": "python",
   "pygments_lexer": "ipython3",
   "version": "3.10.9"
  }
 },
 "nbformat": 4,
 "nbformat_minor": 5
}
